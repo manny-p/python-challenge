{
 "cells": [
  {
   "cell_type": "markdown",
   "id": "5db855db",
   "metadata": {},
   "source": [
    "#### Your task is to create a Python script that analyzes the records to calculate each of the following:\n",
    "\n",
    "- The total number of months included in the dataset\n",
    "\n",
    "- The net total amount of \"Profit/Losses\" over the entire period\n",
    "\n",
    "- Calculate the changes in \"Profit/Losses\" over the entire period, then find the average of those changes\n",
    "\n",
    "- The greatest increase in profits (date and amount) over the entire period\n",
    "\n",
    "- The greatest decrease in losses (date and amount) over the entire period"
   ]
  },
  {
   "cell_type": "code",
   "execution_count": 2,
   "id": "ccf20584",
   "metadata": {
    "code_folding": []
   },
   "outputs": [],
   "source": [
    "import csv\n",
    "import os\n",
    "import statistics"
   ]
  },
  {
   "cell_type": "code",
   "execution_count": 3,
   "id": "2a9b0023",
   "metadata": {
    "code_folding": []
   },
   "outputs": [],
   "source": [
    "filename = os.path.join('Resources', 'budget_data.csv')\n",
    "output = os.path.join('Analysis','output.txt')"
   ]
  },
  {
   "cell_type": "code",
   "execution_count": 4,
   "id": "2275861f",
   "metadata": {},
   "outputs": [],
   "source": [
    "with open(filename) as f:\n",
    "    reader = csv.reader(f, delimiter=',')\n",
    "    skip_header = next(reader)\n",
    "    \n",
    "    total_months = 0\n",
    "    total_net = 0\n",
    "    delta = 0 \n",
    "    \n",
    "    max_profit_date = \"Jan-2010\"\n",
    "    max_profit_amount = 0\n",
    "    \n",
    "    max_loss_date = \"Jan-2010\"\n",
    "    max_loss_amount = 0\n",
    "    \n",
    "    date_list = []\n",
    "    profit_list = []\n",
    "    \n",
    "    i = 0\n",
    "\n"
   ]
  },
  {
   "cell_type": "code",
   "execution_count": null,
   "id": "814fe4ca",
   "metadata": {},
   "outputs": [],
   "source": []
  }
 ],
 "metadata": {
  "kernelspec": {
   "display_name": "PythonData",
   "language": "python",
   "name": "pythondata"
  },
  "language_info": {
   "codemirror_mode": {
    "name": "ipython",
    "version": 3
   },
   "file_extension": ".py",
   "mimetype": "text/x-python",
   "name": "python",
   "nbconvert_exporter": "python",
   "pygments_lexer": "ipython3",
   "version": "3.6.10"
  },
  "toc": {
   "base_numbering": 1,
   "nav_menu": {},
   "number_sections": true,
   "sideBar": true,
   "skip_h1_title": false,
   "title_cell": "Table of Contents",
   "title_sidebar": "Contents",
   "toc_cell": false,
   "toc_position": {},
   "toc_section_display": true,
   "toc_window_display": false
  }
 },
 "nbformat": 4,
 "nbformat_minor": 5
}
