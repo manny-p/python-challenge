{
 "cells": [
  {
   "cell_type": "code",
   "execution_count": 1,
   "id": "b859c13b",
   "metadata": {},
   "outputs": [],
   "source": [
    "# import modules\n",
    "import csv\n",
    "import os  "
   ]
  },
  {
   "cell_type": "code",
   "execution_count": 2,
   "id": "f05d7190",
   "metadata": {},
   "outputs": [],
   "source": [
    "# define paths\n",
    "filename = os.path.join('Resources', 'election_data.csv')\n",
    "results = os.path.join('Analysis', 'poll_results.txt')"
   ]
  },
  {
   "cell_type": "code",
   "execution_count": 3,
   "id": "0122778d",
   "metadata": {
    "scrolled": true
   },
   "outputs": [],
   "source": [
    "# with open(filename) as f:\n",
    "#       for line in f:\n",
    "#         print(line)\n",
    "\n",
    "#     for line in f.readlines():\n",
    "#         values = line.replace('\\n','').split(',')\n",
    "#         print(values)"
   ]
  },
  {
   "cell_type": "code",
   "execution_count": 4,
   "id": "560052bb",
   "metadata": {
    "code_folding": [],
    "scrolled": false
   },
   "outputs": [
    {
     "name": "stdout",
     "output_type": "stream",
     "text": [
      "Election Results\n",
      "-------------------------\n",
      "Total Votes:3,521,002\n",
      "-------------------------\n"
     ]
    }
   ],
   "source": [
    "# read csv\n",
    "with open(filename) as f:\n",
    "    # add params\n",
    "    reader = csv.reader(f, delimiter=',')\n",
    "    \n",
    "    # initialize variables\n",
    "    vote_total = 0\n",
    "    vote_percent = []\n",
    "    candidate = []\n",
    "    candidate_vote_count = []\n",
    "    candidate_winner = []\n",
    "    \n",
    "    for column in reader:\n",
    "        candidate_vote_count.append(column[0])\n",
    "        candidate.append(column[2])\n",
    "\n",
    "    vote_total = (len(candidate_vote_count))\n",
    "    \n",
    "    print('Election Results')\n",
    "    print('-------------------------')\n",
    "    print(f'Total Votes:{vote_total:,}')\n",
    "    print('-------------------------')"
   ]
  },
  {
   "cell_type": "code",
   "execution_count": 5,
   "id": "bb602a0b",
   "metadata": {},
   "outputs": [
    {
     "name": "stdout",
     "output_type": "stream",
     "text": [
      "Correy Votes: 704,200\n",
      "Li Votes: 492,940\n",
      "Khan Votes: 2,218,231\n",
      "O'Tooley Votes: 105,630\n"
     ]
    }
   ],
   "source": [
    "    # calculate vote count per candidate\n",
    "    correy_vote_count = candidate.count('Correy')\n",
    "    li_vote_count = candidate.count('Li')\n",
    "    khan_vote_count = candidate.count('Khan')\n",
    "    o_tooley_vote_count = candidate.count(\"O'Tooley\")\n",
    "    \n",
    "    print(f'Correy Votes:{correy_vote_count: ,}')\n",
    "    print(f'Li Votes:{li_vote_count: ,}')\n",
    "    print(f'Khan Votes:{khan_vote_count: ,}')\n",
    "    print(f\"O'Tooley Votes:{o_tooley_vote_count: ,}\")\n",
    "\n",
    "\n",
    "\n"
   ]
  },
  {
   "cell_type": "code",
   "execution_count": 6,
   "id": "bb662dd3",
   "metadata": {
    "scrolled": false
   },
   "outputs": [
    {
     "name": "stdout",
     "output_type": "stream",
     "text": [
      "20%\n",
      "14%\n",
      "63%\n",
      "3%\n"
     ]
    }
   ],
   "source": [
    "    # calculate vote % per candidate\n",
    "    correy_vote_percent = correy_vote_count / vote_total\n",
    "    li_vote_percent = li_vote_count / vote_total\n",
    "    khan_vote_percent = khan_vote_count / vote_total\n",
    "    o_tooley_vote_percent = o_tooley_vote_count / vote_total\n",
    "    \n",
    "    print('{:.0%}'.format((correy_vote_percent)))\n",
    "    print('{:.0%}'.format((li_vote_percent)))\n",
    "    print('{:.0%}'.format((khan_vote_percent)))\n",
    "    print('{:.0%}'.format((o_tooley_vote_percent)))\n",
    "    \n",
    "    "
   ]
  }
 ],
 "metadata": {
  "kernelspec": {
   "display_name": "PythonData",
   "language": "python",
   "name": "pythondata"
  },
  "language_info": {
   "codemirror_mode": {
    "name": "ipython",
    "version": 3
   },
   "file_extension": ".py",
   "mimetype": "text/x-python",
   "name": "python",
   "nbconvert_exporter": "python",
   "pygments_lexer": "ipython3",
   "version": "3.6.10"
  },
  "toc": {
   "base_numbering": 1,
   "nav_menu": {},
   "number_sections": true,
   "sideBar": true,
   "skip_h1_title": false,
   "title_cell": "Table of Contents",
   "title_sidebar": "Contents",
   "toc_cell": false,
   "toc_position": {},
   "toc_section_display": true,
   "toc_window_display": false
  }
 },
 "nbformat": 4,
 "nbformat_minor": 5
}
